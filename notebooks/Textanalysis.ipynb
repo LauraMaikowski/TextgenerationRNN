{
 "cells": [
  {
   "cell_type": "code",
   "execution_count": 1,
   "id": "88748fd3",
   "metadata": {},
   "outputs": [],
   "source": [
    "%load_ext tensorboard"
   ]
  },
  {
   "cell_type": "code",
   "execution_count": 2,
   "id": "54e9117d",
   "metadata": {},
   "outputs": [],
   "source": [
    "%matplotlib inline\n",
    "\n",
    "\n",
    "import numpy as np\n",
    "from matplotlib import pyplot as plt\n",
    "plt.rcParams[\"figure.figsize\"]=30,30\n",
    "import pandas as pd\n",
    "import os\n",
    "import glob\n",
    "import scipy.io\n",
    "from sklearn.model_selection import train_test_split\n",
    "from tqdm.notebook import tqdm\n",
    "import datetime \n",
    "import time\n",
    "\n",
    "import torch\n",
    "from torch.utils.data import DataLoader, TensorDataset\n",
    "from torch.utils.tensorboard import SummaryWriter\n",
    "import torch.nn as nn\n",
    "import torch.nn.functional as F\n",
    "from torch import optim\n",
    "\n",
    "from torchsummary import summary\n",
    "import copy\n",
    "\n",
    "import src.functions as fn"
   ]
  },
  {
   "cell_type": "code",
   "execution_count": 3,
   "id": "7d32a0f8",
   "metadata": {},
   "outputs": [
    {
     "name": "stdout",
     "output_type": "stream",
     "text": [
      "this computation is running on cuda:0\n"
     ]
    }
   ],
   "source": [
    "device = torch.device('cuda:0' if torch.cuda.is_available() else 'cpu')\n",
    "print('this computation is running on {}'.format(device))\n",
    "device_name = str(device)[:3]\n",
    "\n"
   ]
  },
  {
   "cell_type": "code",
   "execution_count": 4,
   "id": "7082e6d4",
   "metadata": {
    "scrolled": false
   },
   "outputs": [
    {
     "name": "stdout",
     "output_type": "stream",
     "text": [
      "text has 33440 characters before cleaning\n",
      "len vocab:  72\n",
      "\n",
      "vocabulary before cleaning:\n",
      "['\\n', ' ', '!', \"'\", '(', ')', ',', '-', '.', ':', ';', '?', 'A', 'B', 'C', 'D', 'E', 'F', 'G', 'H', 'I', 'J', 'K', 'L', 'M', 'N', 'O', 'P', 'Q', 'R', 'S', 'T', 'U', 'V', 'W', 'Z', '^', 'a', 'b', 'c', 'd', 'e', 'f', 'g', 'h', 'i', 'j', 'k', 'l', 'm', 'n', 'o', 'p', 'q', 'r', 's', 't', 'u', 'v', 'w', 'x', 'y', 'z', '«', '»', 'Ä', 'Ö', 'Ü', 'ß', 'ä', 'ö', 'ü']\n",
      "char_counting:  {'\\n': 1444, ' ': 6872, '!': 61, \"'\": 87, '(': 3, ')': 3, ',': 423, '-': 133, '.': 320, ':': 9, ';': 21, '?': 20, 'A': 96, 'B': 88, 'C': 3, 'D': 311, 'E': 79, 'F': 88, 'G': 89, 'H': 152, 'I': 129, 'J': 19, 'K': 70, 'L': 115, 'M': 137, 'N': 58, 'O': 12, 'P': 30, 'Q': 2, 'R': 47, 'S': 222, 'T': 89, 'U': 155, 'V': 47, 'W': 149, 'Z': 30, '^': 12, 'a': 1085, 'b': 362, 'c': 814, 'd': 1086, 'e': 3634, 'f': 225, 'g': 520, 'h': 1126, 'i': 1880, 'j': 17, 'k': 268, 'l': 873, 'm': 781, 'n': 2754, 'o': 488, 'p': 93, 'q': 1, 'r': 1521, 's': 1001, 't': 1311, 'u': 820, 'v': 108, 'w': 282, 'x': 2, 'y': 5, 'z': 178, '«': 4, '»': 17, 'Ä': 3, 'Ö': 2, 'Ü': 10, 'ß': 114, 'ä': 176, 'ö': 61, 'ü': 193}\n"
     ]
    }
   ],
   "source": [
    "# open ascii txt:\n",
    "filename = \"../data/romantische_lieder_hermannhesse.txt\"\n",
    "text_corpus = open(filename, 'r', encoding='utf-8').read()\n",
    "\n",
    "raw_text = text_corpus\n",
    "print('text has %i characters before cleaning'%len(raw_text))\n",
    "vocab = sorted(set(raw_text))\n",
    "char_to_int = dict((c, i) for i, c in enumerate(vocab))\n",
    "print('len vocab: ',len(vocab))\n",
    "print('\\nvocabulary before cleaning:\\n'+str(vocab))\n",
    "char_counting = dict((c,raw_text.count(c)) for i,c in enumerate(vocab))\n",
    "print('char_counting: ',char_counting)"
   ]
  },
  {
   "cell_type": "code",
   "execution_count": 5,
   "id": "efe72c98",
   "metadata": {},
   "outputs": [
    {
     "name": "stdout",
     "output_type": "stream",
     "text": [
      "number of poems =  45\n",
      "how many poems have subpoems =  12\n",
      "number of subpoems = 24\n",
      "number of stanzas =  202\n",
      "mean of lines in stanza =  4.52970297029703\n",
      "std of lines of stanzas = 1.5925597151839614\n",
      "[6, 9, 11, 16, 18, 22, 25, 28, 40, 43, 46, 50, 55, 59, 66, 72, 75, 78, 80, 83, 87, 89, 91, 98, 102, 105, 110, 115, 121, 125, 130, 132, 135, 138, 141, 146, 149, 157, 165, 166, 171, 178, 182, 186, 190, 195, 196, 198, 199, 201]\n",
      "[3, 2, 5, 2, 4, 3, 3, 12, 3, 3, 4, 5, 4, 7, 6, 3, 3, 2, 3, 4, 2, 2, 7, 4, 3, 5, 5, 6, 4, 5, 2, 3, 3, 3, 5, 3, 8, 8, 1, 5, 7, 4, 4, 4, 5, 1, 2, 1, 2]\n",
      "stanza mean =  3.979591836734694\n",
      "stanza std =  2.0750195073424558\n"
     ]
    },
    {
     "data": {
      "text/plain": [
       "(0.0, 202.0)"
      ]
     },
     "execution_count": 5,
     "metadata": {},
     "output_type": "execute_result"
    },
    {
     "data": {
      "image/png": "[encoded data removed]",
      "text/plain": [
       "<Figure size 1080x360 with 1 Axes>"
      ]
     },
     "metadata": {
      "needs_background": "light"
     },
     "output_type": "display_data"
    }
   ],
   "source": [
    "# how many poems in text?\n",
    "# string that separated poems\n",
    "sep_string = '\\n\\n\\n\\n\\n'\n",
    "nr_poems = text_corpus.count(sep_string)\n",
    "print('number of poems = ',nr_poems)\n",
    "\n",
    "# before counting the stanzas we have to get rid of the subtitles of some stanzas\n",
    "# luckily they are numbered:\n",
    "# I don't know why, but only got rid of I., II., ... numberation when I replaced the following:\n",
    "sub_numberation = ['I.', 'II.', 'III.', 'IV.', 'V.', 'VI.','I\\n\\n', 'II\\n\\n', 'III\\n\\n', 'IV\\n\\n', 'V\\n\\n', 'VI\\n\\n', 'I\\n\\n']\n",
    "\n",
    "sub_poems = 0\n",
    "for sub in sub_numberation:\n",
    "    if sub=='I.':\n",
    "        print('how many poems have subpoems = ', str(text_corpus.count(sub)))\n",
    "    sub_poems += text_corpus.count(sub)\n",
    "print('number of subpoems =' , sub_poems)\n",
    "\n",
    "# data cleansing: replace unnecessary characters and line breaks\n",
    "# (in prediction too much linebreaks after each other leads to linebreak as prediction)\n",
    "stanza = copy.copy(text_corpus)\n",
    "\n",
    "for num in sub_numberation:\n",
    "    stanza = stanza.replace(num, \"\\n\")\n",
    "    \n",
    "end_sentence_char = ['_',':', '$', '*', '/','(',')', \"'\", '-', '^', '»', '«']\n",
    "for char in end_sentence_char:\n",
    "    stanza = stanza.replace(char, \"\")\n",
    "    \n",
    "# delete citization from text:\n",
    "zitat_in = 'Ich habe den Fuß an jene Stelle des Lebens gesetzt,'\n",
    "zitat_out = 'Dante'\n",
    "inso = stanza.find(zitat_in)\n",
    "outso = stanza.find(zitat_out)\n",
    "stanza = stanza.replace(stanza[inso:outso+6], '')\n",
    "\n",
    "stanza = stanza.replace('\\n\\n\\n\\n','\\n')\n",
    "stanza = stanza.replace('\\n\\n\\n','\\n')\n",
    "\n",
    "# correction of some subtitle in order to match poemtitle - poem schematic\n",
    "stanza = stanza.replace('Villalilla.\\n', 'Villalilla.')\n",
    "stanza = stanza.replace('Berceuse.\\n\\n', '\\nBerceuse.\\n')\n",
    "stanza = stanza.replace('Grande valse.\\n\\n', 'Grande valse.\\n')\n",
    "stanza = stanza.replace('Du aber.\\n\\n', '\\nDu aber.\\n')\n",
    "stanza = stanza.replace('Ich fragte Dich.\\n\\n', '\\nIch fragte Dich.\\n')\n",
    "stanza = stanza.replace('Wenn doch mein Leben \\n\\n', '\\nWenn doch mein Leben.\\n')\n",
    "stanza = stanza.replace('So ziehen Sterne \\n\\n', '\\nSo ziehen Sterne.\\n')\n",
    "stanza = stanza.replace('So schön bist Du!\\n\\n', 'So schön bist Du!\\n')\n",
    "num_stanza = stanza.count('\\n\\n')\n",
    "print('number of stanzas = ', num_stanza)\n",
    "\n",
    "# number of lines per stanza\n",
    "import re\n",
    "# indeces of where begin\n",
    "stanza_pos = [m.start() for m in re.finditer('\\n\\n', stanza)]\n",
    "\n",
    "#count number of three white spaces which is new line in poem\n",
    "stanza_len = [stanza[0:stanza_pos[0]].count('   ')]\n",
    "for i in range(0,len(stanza_pos)-1):\n",
    "    stanza_count = stanza[stanza_pos[i]:stanza_pos[i+1]].count('   ')\n",
    "    stanza_len.append(stanza_count)\n",
    "\n",
    "mean_len= np.mean(stanza_len)\n",
    "\n",
    "# position of title\n",
    "# stanza pos includes also title plus first stanza of poem\n",
    "# by searching position of poem entries(rhyme_pos) and an xor of both position\n",
    "# we get position of title\n",
    "rhyme_pos = [m.start() for m in re.finditer('\\n\\n   ', stanza)]\n",
    "diff = sorted(set(stanza_pos)^set(rhyme_pos)) # bitwise XOR excludes position of title\n",
    "\n",
    "title_pos=[]\n",
    "for pos in diff:\n",
    "    title_index = np.argwhere(np.array(stanza_pos)==pos)+1\n",
    "    title_pos.append(title_index[0][0])\n",
    "\n",
    "# plot\n",
    "print('mean of lines in stanza = ',mean_len)\n",
    "print('std of lines of stanzas =', np.std(stanza_len))\n",
    "number_stanza = []\n",
    "print(title_pos)\n",
    "for i in range(0,len(title_pos)-1):\n",
    "    diff_pos = title_pos[i+1]-title_pos[i]\n",
    "    number_stanza.append(diff_pos)\n",
    "print(number_stanza)\n",
    "print('stanza mean = ',np.mean(number_stanza)) #how many stanza there is \n",
    "print('stanza std = ', np.std(number_stanza))\n",
    "\n",
    "plt.figure(figsize=(15,5))\n",
    "xs = np.arange(1,len(stanza_pos)+1)\n",
    "plt.yticks(fontsize=20)\n",
    "plt.xticks(fontsize=20)\n",
    "plt.bar(xs,stanza_len, width=0.5)\n",
    "plt.xlabel('stanza', fontsize=20)\n",
    "plt.ylabel('number of linebreaks', fontsize=20)\n",
    "plt.axhline(mean_len, color='k', linestyle='--', alpha=0.7)\n",
    "for title in title_pos:\n",
    "    plt.axvline(title+0.5, color='goldenrod')\n",
    "    \n",
    "plt.xlim(0,202)\n",
    "#plt.savefig('Pictures/poem_stanza_bar.pdf', format='pdf')"
   ]
  },
  {
   "cell_type": "code",
   "execution_count": 20,
   "id": "3ccb99a4",
   "metadata": {},
   "outputs": [
    {
     "name": "stdout",
     "output_type": "stream",
     "text": [
      "35.800219538968165\n",
      "7.991051523570067\n"
     ]
    },
    {
     "data": {
      "text/plain": [
       "140"
      ]
     },
     "execution_count": 20,
     "metadata": {},
     "output_type": "execute_result"
    }
   ],
   "source": [
    "# number of characters per stanza:\n",
    "#print(rhyme_pos)\n",
    "line_begin = stanza_pos = [m.start() for m in re.finditer('\\n   ', stanza)]\n",
    "char_stanza = []\n",
    "for i in range(0,len(line_begin)-1):\n",
    "    diff_char = line_begin[i+1]-line_begin[i]\n",
    "    char_stanza.append(diff_char)\n",
    "print(np.mean(char_stanza))\n",
    "print(np.std(char_stanza))\n"
   ]
  },
  {
   "cell_type": "code",
   "execution_count": 6,
   "id": "7c3d991c",
   "metadata": {},
   "outputs": [
    {
     "name": "stdout",
     "output_type": "stream",
     "text": [
      "len vocab:  64\n",
      "number of characters after cleansing =  32663\n"
     ]
    }
   ],
   "source": [
    "raw_text = stanza\n",
    "vocab = sorted(set(raw_text))\n",
    "char_to_int = dict((c, i) for i, c in enumerate(vocab))\n",
    "print('len vocab: ',len(vocab))\n",
    "print('number of characters after cleansing = ', len(stanza))"
   ]
  },
  {
   "cell_type": "code",
   "execution_count": 161,
   "id": "9e81c090",
   "metadata": {},
   "outputs": [],
   "source": [
    "text_file = open(\"data/rl_stanza.txt\", \"w\")\n",
    "n = text_file.write(stanza)\n",
    "text_file.close()"
   ]
  },
  {
   "cell_type": "code",
   "execution_count": 168,
   "id": "5a43a604",
   "metadata": {},
   "outputs": [
    {
     "name": "stdout",
     "output_type": "stream",
     "text": [
      "   hey hir ist auch text\n",
      "\n",
      "koala.\n",
      "   koalas sind toll.\n",
      "   superio\n",
      "\n",
      "   echt super\n",
      "   hio\n",
      "\n",
      "birne.\n",
      "24\n",
      "64\n"
     ]
    }
   ],
   "source": [
    "test_text = '   hey hir ist auch text\\n\\nkoala.\\n   koalas sind toll.\\n   superio\\n\\n   echt super\\n   hio\\n\\nbirne.'\n",
    "print(test_text)\n",
    "print(test_text.find('\\n\\n'))\n",
    "print(test_text.find('\\n\\n   '))"
   ]
  },
  {
   "cell_type": "code",
   "execution_count": 15,
   "id": "f447b383",
   "metadata": {},
   "outputs": [
    {
     "name": "stdout",
     "output_type": "stream",
     "text": [
      "[t-SNE] Computing 121 nearest neighbors...\n",
      "[t-SNE] Indexed 32610 samples in 0.003s...\n",
      "[t-SNE] Computed neighbors for 32610 samples in 57.563s...\n",
      "[t-SNE] Computed conditional probabilities for sample 1000 / 32610\n",
      "[t-SNE] Computed conditional probabilities for sample 2000 / 32610\n",
      "[t-SNE] Computed conditional probabilities for sample 3000 / 32610\n",
      "[t-SNE] Computed conditional probabilities for sample 4000 / 32610\n",
      "[t-SNE] Computed conditional probabilities for sample 5000 / 32610\n",
      "[t-SNE] Computed conditional probabilities for sample 6000 / 32610\n",
      "[t-SNE] Computed conditional probabilities for sample 7000 / 32610\n",
      "[t-SNE] Computed conditional probabilities for sample 8000 / 32610\n",
      "[t-SNE] Computed conditional probabilities for sample 9000 / 32610\n",
      "[t-SNE] Computed conditional probabilities for sample 10000 / 32610\n",
      "[t-SNE] Computed conditional probabilities for sample 11000 / 32610\n",
      "[t-SNE] Computed conditional probabilities for sample 12000 / 32610\n",
      "[t-SNE] Computed conditional probabilities for sample 13000 / 32610\n",
      "[t-SNE] Computed conditional probabilities for sample 14000 / 32610\n",
      "[t-SNE] Computed conditional probabilities for sample 15000 / 32610\n",
      "[t-SNE] Computed conditional probabilities for sample 16000 / 32610\n",
      "[t-SNE] Computed conditional probabilities for sample 17000 / 32610\n",
      "[t-SNE] Computed conditional probabilities for sample 18000 / 32610\n",
      "[t-SNE] Computed conditional probabilities for sample 19000 / 32610\n",
      "[t-SNE] Computed conditional probabilities for sample 20000 / 32610\n",
      "[t-SNE] Computed conditional probabilities for sample 21000 / 32610\n",
      "[t-SNE] Computed conditional probabilities for sample 22000 / 32610\n",
      "[t-SNE] Computed conditional probabilities for sample 23000 / 32610\n",
      "[t-SNE] Computed conditional probabilities for sample 24000 / 32610\n",
      "[t-SNE] Computed conditional probabilities for sample 25000 / 32610\n",
      "[t-SNE] Computed conditional probabilities for sample 26000 / 32610\n",
      "[t-SNE] Computed conditional probabilities for sample 27000 / 32610\n",
      "[t-SNE] Computed conditional probabilities for sample 28000 / 32610\n",
      "[t-SNE] Computed conditional probabilities for sample 29000 / 32610\n",
      "[t-SNE] Computed conditional probabilities for sample 30000 / 32610\n",
      "[t-SNE] Computed conditional probabilities for sample 31000 / 32610\n",
      "[t-SNE] Computed conditional probabilities for sample 32000 / 32610\n",
      "[t-SNE] Computed conditional probabilities for sample 32610 / 32610\n",
      "[t-SNE] Mean sigma: 49.269958\n",
      "[t-SNE] KL divergence after 250 iterations with early exaggeration: 108.341888\n",
      "[t-SNE] KL divergence after 300 iterations: 5.770999\n"
     ]
    }
   ],
   "source": [
    "from sklearn.manifold import TSNE\n",
    "#  sklearn TSNE:  \n",
    "#  n:Dimension of embedded space\n",
    "#  verbose: how many information are printed\n",
    "#  perplexity: lower number gives more distance of nearest neighbor inside cluster\n",
    "#  n_iter: maximum number of iterations\n",
    "tsne = TSNE(n_components=2, verbose=1, perplexity=40, n_iter=300)\n",
    "tsne_results = tsne.fit_transform(token[0])"
   ]
  },
  {
   "cell_type": "code",
   "execution_count": 26,
   "id": "dc98d9e8",
   "metadata": {},
   "outputs": [
    {
     "data": {
      "text/plain": [
       "<matplotlib.collections.PathCollection at 0x7fe84b38e160>"
      ]
     },
     "execution_count": 26,
     "metadata": {},
     "output_type": "execute_result"
    },
    {
     "data": {
      "image/png": "[encoded data removed]",
      "text/plain": [
       "<Figure size 432x288 with 1 Axes>"
      ]
     },
     "metadata": {
      "needs_background": "light"
     },
     "output_type": "display_data"
    }
   ],
   "source": [
    "plt.scatter(tsne_plot[0], tsne_plot[1])"
   ]
  },
  {
   "cell_type": "code",
   "execution_count": null,
   "id": "2bad16ba",
   "metadata": {},
   "outputs": [],
   "source": []
  }
 ],
 "metadata": {
  "kernelspec": {
   "display_name": "Python 3",
   "language": "python",
   "name": "python3"
  },
  "language_info": {
   "codemirror_mode": {
    "name": "ipython",
    "version": 3
   },
   "file_extension": ".py",
   "mimetype": "text/x-python",
   "name": "python",
   "nbconvert_exporter": "python",
   "pygments_lexer": "ipython3",
   "version": "3.7.3"
  }
 },
 "nbformat": 4,
 "nbformat_minor": 5
}
