{
 "cells": [
  {
   "cell_type": "code",
   "execution_count": 2,
   "id": "88748fd3",
   "metadata": {},
   "outputs": [],
   "source": [
    "%load_ext tensorboard"
   ]
  },
  {
   "cell_type": "code",
   "execution_count": 3,
   "id": "54e9117d",
   "metadata": {},
   "outputs": [],
   "source": [
    "%matplotlib inline\n",
    "\n",
    "\n",
    "import numpy as np\n",
    "from matplotlib import pyplot as plt\n",
    "import pandas as pd\n",
    "import os\n",
    "import glob\n",
    "import scipy.io\n",
    "import copy\n",
    "import datetime \n",
    "import time\n",
    "\n",
    "from sklearn.model_selection import train_test_split\n",
    "from tqdm.notebook import tqdm\n",
    "\n",
    "import torch\n",
    "from torch.utils.data import DataLoader, TensorDataset\n",
    "from torch.utils.tensorboard import SummaryWriter\n",
    "import torch.nn as nn\n",
    "import torch.nn.functional as F\n",
    "from torch import optim\n",
    "\n",
    "from torchsummary import summary\n",
    "\n",
    "import src.functions as fn\n"
   ]
  },
  {
   "cell_type": "code",
   "execution_count": 4,
   "id": "7d32a0f8",
   "metadata": {},
   "outputs": [
    {
     "name": "stdout",
     "output_type": "stream",
     "text": [
      "this computation is running on cuda:0\n"
     ]
    }
   ],
   "source": [
    "device = torch.device('cuda:0' if torch.cuda.is_available() else 'cpu')\n",
    "print('this computation is running on {}'.format(device))\n",
    "device_name = str(device)[:3]\n",
    "\n"
   ]
  },
  {
   "cell_type": "markdown",
   "id": "387536c5",
   "metadata": {},
   "source": [
    "following: https://www.tensorflow.org/text/tutorials/text_generation"
   ]
  },
  {
   "cell_type": "code",
   "execution_count": 5,
   "id": "7082e6d4",
   "metadata": {
    "scrolled": false
   },
   "outputs": [
    {
     "name": "stdout",
     "output_type": "stream",
     "text": [
      "text has 33440 characters before cleaning\n",
      "len vocab:  72\n",
      "\n",
      "vocabulary before cleaning:\n",
      "['\\n', ' ', '!', \"'\", '(', ')', ',', '-', '.', ':', ';', '?', 'A', 'B', 'C', 'D', 'E', 'F', 'G', 'H', 'I', 'J', 'K', 'L', 'M', 'N', 'O', 'P', 'Q', 'R', 'S', 'T', 'U', 'V', 'W', 'Z', '^', 'a', 'b', 'c', 'd', 'e', 'f', 'g', 'h', 'i', 'j', 'k', 'l', 'm', 'n', 'o', 'p', 'q', 'r', 's', 't', 'u', 'v', 'w', 'x', 'y', 'z', '«', '»', 'Ä', 'Ö', 'Ü', 'ß', 'ä', 'ö', 'ü']\n",
      "char_counting:  {'\\n': 1444, ' ': 6872, '!': 61, \"'\": 87, '(': 3, ')': 3, ',': 423, '-': 133, '.': 320, ':': 9, ';': 21, '?': 20, 'A': 96, 'B': 88, 'C': 3, 'D': 311, 'E': 79, 'F': 88, 'G': 89, 'H': 152, 'I': 129, 'J': 19, 'K': 70, 'L': 115, 'M': 137, 'N': 58, 'O': 12, 'P': 30, 'Q': 2, 'R': 47, 'S': 222, 'T': 89, 'U': 155, 'V': 47, 'W': 149, 'Z': 30, '^': 12, 'a': 1085, 'b': 362, 'c': 814, 'd': 1086, 'e': 3634, 'f': 225, 'g': 520, 'h': 1126, 'i': 1880, 'j': 17, 'k': 268, 'l': 873, 'm': 781, 'n': 2754, 'o': 488, 'p': 93, 'q': 1, 'r': 1521, 's': 1001, 't': 1311, 'u': 820, 'v': 108, 'w': 282, 'x': 2, 'y': 5, 'z': 178, '«': 4, '»': 17, 'Ä': 3, 'Ö': 2, 'Ü': 10, 'ß': 114, 'ä': 176, 'ö': 61, 'ü': 193}\n"
     ]
    }
   ],
   "source": [
    "# open ascii txt:\n",
    "filename = \"romantische_lieder_hermannhesse.txt\"\n",
    "text_corpus = open(filename, 'r', encoding='utf-8').read()\n",
    "\n",
    "raw_text = text_corpus\n",
    "print('text has %i characters before cleaning'%len(raw_text))\n",
    "vocab = sorted(set(raw_text))\n",
    "char_to_int = dict((c, i) for i, c in enumerate(vocab))\n",
    "print('len vocab: ',len(vocab))\n",
    "print('\\nvocabulary before cleaning:\\n'+str(vocab))\n",
    "char_counting = dict((c,raw_text.count(c)) for i,c in enumerate(vocab))\n",
    "print('char_counting: ',char_counting)\n"
   ]
  },
  {
   "cell_type": "markdown",
   "id": "87ff4f64",
   "metadata": {},
   "source": [
    "## Data cleansing/ editing"
   ]
  },
  {
   "cell_type": "code",
   "execution_count": 6,
   "id": "20ee29be",
   "metadata": {},
   "outputs": [
    {
     "name": "stdout",
     "output_type": "stream",
     "text": [
      "number of poems =  45\n",
      "how many poems have subpoems =  12\n",
      "number of subpoems = 24\n",
      "number of character after cleansing =  32663\n"
     ]
    }
   ],
   "source": [
    "# how many poems in text?\n",
    "# string that separated poems\n",
    "sep_string = '\\n\\n\\n\\n\\n'\n",
    "nr_poems = text_corpus.count(sep_string)\n",
    "print('number of poems = ',nr_poems)\n",
    "\n",
    "# before counting the stanzas we have to get rid of the subtitles of some stanzas\n",
    "# luckily they are numbered:\n",
    "# I don't know why, but only got rid of I., II., ... numberation when I replaced the following:\n",
    "sub_numberation = ['I.', 'II.', 'III.', 'IV.', 'V.', 'VI.','I\\n\\n', 'II\\n\\n', 'III\\n\\n', 'IV\\n\\n', 'V\\n\\n', 'VI\\n\\n', 'I\\n\\n']\n",
    "\n",
    "sub_poems = 0\n",
    "for sub in sub_numberation:\n",
    "    if sub=='I.':\n",
    "        print('how many poems have subpoems = ', str(text_corpus.count(sub)))\n",
    "    sub_poems += text_corpus.count(sub)\n",
    "print('number of subpoems =' , sub_poems)\n",
    "\n",
    "# data cleansing: replace unnecessary characters and line breaks\n",
    "# (in prediction too much linebreaks after each other leads to linebreak as prediction)\n",
    "stanza = copy.copy(text_corpus)\n",
    "\n",
    "for num in sub_numberation:\n",
    "    stanza = stanza.replace(num, \"\\n\")\n",
    "    \n",
    "end_sentence_char = ['_',':', '$', '*', '/','(',')', \"'\", '-', '^', '»', '«']\n",
    "for char in end_sentence_char:\n",
    "    stanza = stanza.replace(char, \"\")\n",
    "    \n",
    "# delete citization from text:\n",
    "zitat_in = 'Ich habe den Fuß an jene Stelle des Lebens gesetzt,'\n",
    "zitat_out = 'Dante'\n",
    "inso = stanza.find(zitat_in)\n",
    "outso = stanza.find(zitat_out)\n",
    "stanza = stanza.replace(stanza[inso:outso+6], '')\n",
    "\n",
    "stanza = stanza.replace('\\n\\n\\n\\n','\\n')\n",
    "stanza = stanza.replace('\\n\\n\\n','\\n')\n",
    "\n",
    "# correction of some subtitle in order to match poemtitle - poem schematic\n",
    "stanza = stanza.replace('Villalilla.\\n', 'Villalilla.')\n",
    "stanza = stanza.replace('Berceuse.\\n\\n', '\\nBerceuse.\\n')\n",
    "stanza = stanza.replace('Grande valse.\\n\\n', 'Grande valse.\\n')\n",
    "stanza = stanza.replace('Du aber.\\n\\n', '\\nDu aber.\\n')\n",
    "stanza = stanza.replace('Ich fragte Dich.\\n\\n', '\\nIch fragte Dich.\\n')\n",
    "stanza = stanza.replace('Wenn doch mein Leben \\n\\n', '\\nWenn doch mein Leben.\\n')\n",
    "stanza = stanza.replace('So ziehen Sterne \\n\\n', '\\nSo ziehen Sterne.\\n')\n",
    "stanza = stanza.replace('So schön bist Du!\\n\\n', 'So schön bist Du!\\n')\n",
    "print('number of character after cleansing = ', len(stanza))\n",
    "raw_text = stanza"
   ]
  },
  {
   "cell_type": "markdown",
   "id": "d6164e0a",
   "metadata": {},
   "source": [
    "## Text Prediction:"
   ]
  },
  {
   "cell_type": "code",
   "execution_count": 7,
   "id": "6d9acb88",
   "metadata": {},
   "outputs": [],
   "source": [
    "def mulitnomial_prediction(seed, model, temperature=0.4, predict_len=500):\n",
    "    lstm = model.eval()\n",
    "    initial_str = seed\n",
    "    #### word generator: from https://github.com/aladdinpersson/Machine-Learning-Collection/blob/master/ML/Projects/text_generation_babynames/generating_names.py 19.01.22\n",
    "    hidden = lstm.init_state(1)\n",
    "    \n",
    "    initial_input = fn.text_to_torch(initial_str, raw_text).long()\n",
    "    predicted = initial_str\n",
    "\n",
    "    # predicted hidden state for first characters\n",
    "    for p in range(len(initial_str)-1):\n",
    "        _, hidden = lstm(initial_input[p].to(device), hidden)\n",
    "        \n",
    "    last_char = initial_input[-1]\n",
    "    for p in range(predict_len):\n",
    "        output, hidden = lstm(last_char.to(device), hidden)\n",
    "        output_dist = output.view(-1).div(temperature).exp()\n",
    "        top_char = torch.multinomial(output_dist, 1)[0]\n",
    "\n",
    "        predicted_char = fn.torch_to_text(top_char.cpu(), raw_text)[0]\n",
    "        predicted += predicted_char\n",
    "        last_char = fn.text_to_torch(predicted_char, raw_text).long()[0]\n",
    "\n",
    "    return predicted"
   ]
  },
  {
   "cell_type": "code",
   "execution_count": 8,
   "id": "f47972e0",
   "metadata": {},
   "outputs": [],
   "source": [
    "log_dir = 'logs'\n",
    "writer = SummaryWriter(log_dir)\n",
    "layer = [1,2,4]\n",
    "hid = [1024,[512,256],[512,256,128,64]]"
   ]
  },
  {
   "cell_type": "code",
   "execution_count": 18,
   "id": "68ed4ee8",
   "metadata": {},
   "outputs": [
    {
     "data": {
      "application/vnd.jupyter.widget-view+json": {
       "model_id": "bf8d2d48d814496f8fd04d0ca46d1359",
       "version_major": 2,
       "version_minor": 0
      },
      "text/plain": [
       "  0%|          | 0/70 [00:00<?, ?it/s]"
      ]
     },
     "metadata": {},
     "output_type": "display_data"
    },
    {
     "name": "stdout",
     "output_type": "stream",
     "text": [
      "Leben auscheres Herze Tapre,\n",
      "   Wir wollten und Weg aus der Stadt vom Morgen und lauschen und allein\n",
      "   Weg in der Hand\n",
      "   Und am Brücke mein Heimwehland herbarg\n",
      "   In meiner Freunde Tag verrrin langer Prinkgeld mir geht\n",
      "   Versteckte Du mannt ein Blutbuche kallein!\n",
      "\n",
      "   Zum Brun\n",
      "   Mein Herz fällt die Zeit schönes Leben Haupt \n",
      "     Und daß Du mir?\n",
      "\n",
      "Mansine Verstecken\n",
      "   Steht der aus Deiner tragen\n",
      "   Und schmal aufern\n",
      "   Auf die sein tragen\n",
      "   Und schen aus.\n",
      "\n",
      "   Wir weißen sein Ster alle schlafen gangen\n",
      "   Und dächhen,\n",
      "   Mein Ämplein renen Mauern,\n",
      "   Sommer fremden Mai  Ich hasse hören.\n",
      "\n",
      "   Schmetterlitten\n",
      "   Eine Lichtern schöner Frauern\n",
      "   Wenn mein Lieder stolz dunkler Aberglittend mich bin Deiner Maus\n",
      "   Und schmal auch nach Dein!\n",
      "\n",
      "Weit aum Brund weichtet,\n",
      "   Zugvög verschen Takönnen\n",
      "   Wie lauter Schlummert das Fannigin,\n",
      "   Und laß von mir der Traum ging der Haar\n",
      "   Ween dorte Bänder!\n",
      "     Senkern sagen der Stadt aus der Hand\n",
      "   Ob empe Jüchsen!\n",
      "   Wie damals,    Und der der Nacht\n",
      "   \n",
      "Lebendfrauß das Bene Geln \n",
      "   Ein schwarz diese Sal\n",
      "\n",
      "    Mein Herz mußtschaut\n",
      "   An alleiner Falterkle und Hand,\n",
      "   Mein Lied aus!\n",
      "   Augen hingstaum, Du,\n",
      "   War der Welt verbrt meiner fres Pfare mich schaur\n",
      "   Dann warst so in blaut\n",
      "   Aller Flitter Ster aus der Stern\n",
      "   Zeit schönes Schwandert,\n",
      "   So schöne Haus,\n",
      "   Hersteift in die versäumten\n",
      "   Wenn wollten \n",
      "   Sommer schönes Hersche Dich mich mit den früher Heilen Ster Mondb\n",
      "   Nur helieber mich ein würd mich miß,\n",
      "   Und lächelt fällen\n",
      "   Und liebesseden mein Beg\n",
      "   Nrau aus                                                                                                                                            Du aufenkalang.\n",
      "\n",
      "   Der Straßen jänger kaum\n",
      "   Und laß von fernen Bog d meine Halten fläter trüberträumen\n",
      "   Und war so war meiner Herz scheuen Träumen jerdes Sommer war mein Herz Händerbar,\n",
      "   Was klang meines Leide Sternacheiten\n",
      "   Herz tie tiefreunundlichest Du nanon Band,\n",
      "   Ein allein\n",
      "   Weg ich scheue Mitternacht.\n",
      "   Dorn \n",
      "Lebendige gelfenscht.\n",
      "   Nur einer Frichtera,\n",
      "   Der mir vergangeter seiten Märdikar!\n",
      "   Sag un Deiner Weg ich.\n",
      "\n",
      "   Und legt der Stundet\n",
      "   Fern schälgend tangen.\n",
      "\n",
      "   Mein Herz schlafen\n",
      "   Ein lang überflorg wie eine Spur;\n",
      "   Kein Mädchenlagen\n",
      "   Und lächelt kühe Traukelt an fer geht und gestir!\n",
      "   Ich die Haus;\n",
      "   Alster alle, die tolzetrauß ein Ohr fremdes Blüte\n",
      "   Mit dem Blicke, Flogessen Sterste Morde.\n",
      "    Im Ein Sternabwüchse Welt\n",
      "   Ein mein Grün übermut scheuen Bacht.\n",
      "\n",
      "   Mit Der Piffffbrüch mich elt,\n",
      "   Du alle Thür,\n",
      "   Scheuem Muß hinausem Schloß, so ephen renen\n",
      "   Wie bauett,\n",
      "   Wie kann die kamse war Haus der Ster aum der Streunund Aus denken, stummen\n",
      "   Und ich fürchtet,\n",
      "   Zumweht macht em Brausche Dein Glück und einen Glück erzenehen,\n",
      "   Becherzeitt\n",
      "   An Deiner das Meere Paar\n",
      "   Und ersternahes Hause schon Dich, \n",
      "   Auf fürder ein altes, breitete Anblick, Menschied, schweigend ladrr,\n",
      "   Und strauße goldversbreicheit\n",
      "   Über glause Jünderbebuchuß fland n\n",
      "   Schmiegt.\n",
      "   Auch \n",
      "data/txtbatch20220205_2143191seqlen100hs512b5epoch70temperature90.txt\n"
     ]
    },
    {
     "data": {
      "application/vnd.jupyter.widget-view+json": {
       "model_id": "42f6253521334112a29ad596657f50e2",
       "version_major": 2,
       "version_minor": 0
      },
      "text/plain": [
       "  0%|          | 0/70 [00:00<?, ?it/s]"
      ]
     },
     "metadata": {},
     "output_type": "display_data"
    },
    {
     "ename": "RuntimeError",
     "evalue": "probability tensor contains either `inf`, `nan` or element < 0",
     "output_type": "error",
     "traceback": [
      "\u001b[0;31m---------------------------------------------------------------------------\u001b[0m",
      "\u001b[0;31mRuntimeError\u001b[0m                              Traceback (most recent call last)",
      "Input \u001b[0;32mIn [18]\u001b[0m, in \u001b[0;36m<module>\u001b[0;34m\u001b[0m\n\u001b[1;32m     39\u001b[0m seed \u001b[38;5;241m=\u001b[39m \u001b[38;5;124m'\u001b[39m\u001b[38;5;124mLeben\u001b[39m\u001b[38;5;124m'\u001b[39m\n\u001b[1;32m     40\u001b[0m temperature\u001b[38;5;241m=\u001b[39mt\n\u001b[0;32m---> 41\u001b[0m test \u001b[38;5;241m=\u001b[39m \u001b[43mmulitnomial_prediction\u001b[49m\u001b[43m(\u001b[49m\u001b[43mseed\u001b[49m\u001b[43m,\u001b[49m\u001b[43m \u001b[49m\u001b[43mmodel\u001b[49m\u001b[38;5;241;43m=\u001b[39;49m\u001b[43mgru\u001b[49m\u001b[43m,\u001b[49m\u001b[43m \u001b[49m\u001b[43mtemperature\u001b[49m\u001b[38;5;241;43m=\u001b[39;49m\u001b[43mtemperature\u001b[49m\u001b[43m,\u001b[49m\u001b[43m \u001b[49m\u001b[43mpredict_len\u001b[49m\u001b[38;5;241;43m=\u001b[39;49m\u001b[38;5;241;43m1000\u001b[39;49m\u001b[43m)\u001b[49m\n\u001b[1;32m     44\u001b[0m \u001b[38;5;28mprint\u001b[39m(test)\n\u001b[1;32m     45\u001b[0m text_save \u001b[38;5;241m=\u001b[39m \u001b[38;5;124m'\u001b[39m\u001b[38;5;124mdata/txtbatch\u001b[39m\u001b[38;5;124m'\u001b[39m\u001b[38;5;241m+\u001b[39msave_time\u001b[38;5;241m+\u001b[39m\u001b[38;5;124m'\u001b[39m\u001b[38;5;132;01m%i\u001b[39;00m\u001b[38;5;124mseqlen\u001b[39m\u001b[38;5;132;01m%i\u001b[39;00m\u001b[38;5;124mhs\u001b[39m\u001b[38;5;132;01m%i\u001b[39;00m\u001b[38;5;124mb\u001b[39m\u001b[38;5;132;01m%i\u001b[39;00m\u001b[38;5;124mepoch\u001b[39m\u001b[38;5;132;01m%i\u001b[39;00m\u001b[38;5;124mtemperature\u001b[39m\u001b[38;5;132;01m%i\u001b[39;00m\u001b[38;5;124m.txt\u001b[39m\u001b[38;5;124m'\u001b[39m\u001b[38;5;241m%\u001b[39m(gru_layer, \n\u001b[1;32m     46\u001b[0m                                                                                      seq_len, hidden_size, \n\u001b[1;32m     47\u001b[0m                                                                                      batch_size, epochs, \n\u001b[1;32m     48\u001b[0m                                                                                      temperature\u001b[38;5;241m*\u001b[39m\u001b[38;5;241m100\u001b[39m)\n",
      "Input \u001b[0;32mIn [7]\u001b[0m, in \u001b[0;36mmulitnomial_prediction\u001b[0;34m(seed, model, temperature, predict_len)\u001b[0m\n\u001b[1;32m     16\u001b[0m output, hidden \u001b[38;5;241m=\u001b[39m lstm(last_char\u001b[38;5;241m.\u001b[39mto(device), hidden)\n\u001b[1;32m     17\u001b[0m output_dist \u001b[38;5;241m=\u001b[39m output\u001b[38;5;241m.\u001b[39mview(\u001b[38;5;241m-\u001b[39m\u001b[38;5;241m1\u001b[39m)\u001b[38;5;241m.\u001b[39mdiv(temperature)\u001b[38;5;241m.\u001b[39mexp()\n\u001b[0;32m---> 18\u001b[0m top_char \u001b[38;5;241m=\u001b[39m \u001b[43mtorch\u001b[49m\u001b[38;5;241;43m.\u001b[39;49m\u001b[43mmultinomial\u001b[49m\u001b[43m(\u001b[49m\u001b[43moutput_dist\u001b[49m\u001b[43m,\u001b[49m\u001b[43m \u001b[49m\u001b[38;5;241;43m1\u001b[39;49m\u001b[43m)\u001b[49m[\u001b[38;5;241m0\u001b[39m]\n\u001b[1;32m     20\u001b[0m predicted_char \u001b[38;5;241m=\u001b[39m fn\u001b[38;5;241m.\u001b[39mtorch_to_text(top_char\u001b[38;5;241m.\u001b[39mcpu(), raw_text)[\u001b[38;5;241m0\u001b[39m]\n\u001b[1;32m     21\u001b[0m predicted \u001b[38;5;241m+\u001b[39m\u001b[38;5;241m=\u001b[39m predicted_char\n",
      "\u001b[0;31mRuntimeError\u001b[0m: probability tensor contains either `inf`, `nan` or element < 0"
     ]
    },
    {
     "data": {
      "image/png": "[encoded data removed]",
      "text/plain": [
       "<Figure size 432x288 with 1 Axes>"
      ]
     },
     "metadata": {
      "needs_background": "light"
     },
     "output_type": "display_data"
    }
   ],
   "source": [
    "bat = [5,10,100,500]\n",
    "for batch_size in bat:\n",
    "    # Parameter settings\n",
    "\n",
    "    #batch_size= 50 \n",
    "    seq_len = 100\n",
    "    hidden_size = 512\n",
    "    num_embeddings = 256\n",
    "    learning_rate = 0.003\n",
    "    epochs = 70\n",
    "    dropout = 0.2\n",
    "    gru_layer = 1\n",
    "\n",
    "\n",
    "\n",
    "    # loading data and model\n",
    "    dataX,dataY,n_vocab = fn.tokenize(raw_text, seq_len=seq_len, target_is_sequence=True)\n",
    "    data_loader = fn.pytorch_dataloader(dataX,dataY, n_vocab, seq_len, batch_size=batch_size)\n",
    "    # model initiation\n",
    "    gru = fn.Model(vocab_size=n_vocab, num_embeddings = num_embeddings, \n",
    "            hidden_size=hidden_size,lstm_layers=gru_layer).to(device)\n",
    "    # model training\n",
    "    train = fn.training(train_data=data_loader, epochs=epochs, \n",
    "        batch_size= batch_size, learning_rate=learning_rate, model=gru)\n",
    "    # saving model\n",
    "\n",
    "    name_prefix = 'models/project_data/gru%iseqlen%i_'%(gru_layer, seq_len)\n",
    "    fn.save_model(save=True, train=train, device_name=device_name, \n",
    "                   hidden_size=hidden_size, batch_size=batch_size, \n",
    "                   epochs=epochs, learning_rate=learning_rate, \n",
    "                   num_embeddings=num_embeddings, seq_len=seq_len, dropout=dropout, name_prefix=name_prefix)\n",
    "\n",
    "    save_time = datetime.datetime.fromtimestamp(time.time()).strftime('%Y%m%d_%H%M%S')\n",
    "    data_save = 'data/grubatch'+save_time+'%iseqlen%ihs%ib%iepoch%i'%(gru_layer, seq_len, hidden_size, batch_size, epochs)\n",
    "    np.save(data_save, train[2])\n",
    "\n",
    "    temp = [0.5, 0.8, 0.9]\n",
    "    for t in temp:\n",
    "        seed = 'Leben'\n",
    "        temperature=t\n",
    "        test = mulitnomial_prediction(seed, model=gru, temperature=temperature, predict_len=1000)\n",
    "\n",
    "\n",
    "        print(test)\n",
    "        text_save = 'data/txtbatch'+save_time+'%iseqlen%ihs%ib%iepoch%itemperature%i.txt'%(gru_layer, \n",
    "                                                                                             seq_len, hidden_size, \n",
    "                                                                                             batch_size, epochs, \n",
    "                                                                                             temperature*100)\n",
    "        text_file = open(text_save, \"w\")\n",
    "        n = text_file.write('#seed:'+seed+'\\n\\n'+test)\n",
    "        text_file.close()\n",
    "    print(text_save)"
   ]
  },
  {
   "cell_type": "code",
   "execution_count": 10,
   "id": "3896df73",
   "metadata": {},
   "outputs": [
    {
     "name": "stdout",
     "output_type": "stream",
     "text": [
      "data/txtprediction20220205_1846542seqlen140hs512b20epoch70temperature90.txt\n"
     ]
    }
   ],
   "source": [
    "print(text_save)"
   ]
  },
  {
   "cell_type": "code",
   "execution_count": 28,
   "id": "6d3bb30f",
   "metadata": {},
   "outputs": [],
   "source": []
  },
  {
   "cell_type": "code",
   "execution_count": 20,
   "id": "4d46056a",
   "metadata": {},
   "outputs": [
    {
     "name": "stdout",
     "output_type": "stream",
     "text": [
      "Leben.\n",
      "\n",
      "   Ich   Dein Dich Dich bekleit verlorend.\n",
      "\n",
      "   Die Nacht Die Körank\n",
      "   Die Nachte lang und Hause\n",
      "   Vergloßen Herzsen schauen\n",
      "   Mein Händern keine Selken\n",
      "   Mein Haupt und spurpurt geglanken Schloß.   In das Hand,\n",
      "   Die Händer helmen Liebe\n",
      "   Mein Herz schön er steht der Sollen Sein Spiehen\n",
      "   In meine Trauf weiß in der Spielen spüren\n",
      "   In liege träumen Haupt!\n",
      "\n",
      "   De Herz das Hal im Geseg in Dein Hügel!\n",
      "   Die Haupt spät.\n",
      "\n",
      "Aen den Mädern flogen mit Kranz zu schwingsjert ein Hiel reiten,\n",
      "   Ich weißen Schloß steht die Nächte lächte liegen,\n",
      "   Denn kann zu jeden Neichten.\n",
      "\n",
      "   Von meiner Herz mich aller Plaud und schwer,\n",
      "   Von mill im Bann kommes Lieder mein Hand.\n",
      "\n",
      "   Du weißen Mädchen Dir noch er über Schauert geht.\n",
      "\n",
      "   Der schauen Leben,\n",
      "   Mir so ling im Blücken allein.\n",
      "\n",
      "   Ich weißen gring nie stumm und stehnen,\n",
      "   Den allen Nächtertrten träg vergrerweichtern, schwandern gehen alleinen Flogen,\n",
      "   Daren und Haupt!\n",
      "   Den Kin ich Dir Dich war kann die ein Mäder ling nach Dir voll\n"
     ]
    }
   ],
   "source": [
    "\n",
    "seed = 'Leben'\n",
    "temperature=0.5\n",
    "test = mulitnomial_prediction(seed, model=gru, temperature=temperature, predict_len=1000)\n",
    "\n",
    "\n",
    "print(test)\n",
    "text_save = 'data/txtprediction'+save_time+'%iseqlen%ihs%ib%iepoch%itemperature%i.txt'%(gru_layer, \n",
    "                                                                                         seq_len, hidden_size, \n",
    "                                                                                         batch_size, epochs, \n",
    "                                                                                         temperature*100)\n",
    "text_file = open(text_save, \"w\")\n",
    "n = text_file.write('#seed:'+seed+'\\n\\n'+test)\n",
    "text_file.close()"
   ]
  },
  {
   "cell_type": "code",
   "execution_count": null,
   "id": "c801fd78",
   "metadata": {},
   "outputs": [],
   "source": []
  }
 ],
 "metadata": {
  "kernelspec": {
   "display_name": "Python 3",
   "language": "python",
   "name": "python3"
  },
  "language_info": {
   "codemirror_mode": {
    "name": "ipython",
    "version": 3
   },
   "file_extension": ".py",
   "mimetype": "text/x-python",
   "name": "python",
   "nbconvert_exporter": "python",
   "pygments_lexer": "ipython3",
   "version": "3.7.3"
  }
 },
 "nbformat": 4,
 "nbformat_minor": 5
}
